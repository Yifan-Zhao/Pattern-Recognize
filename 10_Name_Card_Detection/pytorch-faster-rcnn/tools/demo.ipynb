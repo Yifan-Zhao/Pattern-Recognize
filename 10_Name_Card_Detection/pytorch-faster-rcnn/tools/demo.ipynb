{
 "cells": [
  {
   "cell_type": "code",
   "execution_count": 25,
   "metadata": {},
   "outputs": [],
   "source": [
    "from nets.resnet_v1 import resnetv1\n",
    "import torch\n",
    "\n",
    "net = resnetv1(num_layers=101)\n",
    "net.create_architecture(4, tag='default', anchor_scales=[8, 16, 32])\n",
    "\n",
    "net.load_state_dict(torch.load(os.path.join('../output', 'res101', 'NameCardtrainvalNameCardReal', 'default',\n",
    "                              'res101_faster_rcnn_iter_200000.pth'), map_location=lambda storage, loc: storage))\n",
    "net.eval()\n",
    "half_net = net.to(torch.float16)\n",
    "\n",
    "torch.save(half_net.state_dict(), 'params.pth')\n",
    "\n"
   ]
  }
 ],
 "metadata": {
  "anaconda-cloud": {},
  "kernelspec": {
   "display_name": "Python 3",
   "language": "python",
   "name": "python3"
  },
  "language_info": {
   "codemirror_mode": {
    "name": "ipython",
    "version": 3
   },
   "file_extension": ".py",
   "mimetype": "text/x-python",
   "name": "python",
   "nbconvert_exporter": "python",
   "pygments_lexer": "ipython3",
   "version": "3.5.2"
  }
 },
 "nbformat": 4,
 "nbformat_minor": 2
}
