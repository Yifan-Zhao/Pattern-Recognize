{
 "cells": [
  {
   "cell_type": "markdown",
   "metadata": {},
   "source": [
    "# Emsemble, AdaBoost\n",
    "\n",
    "> Weitong Zhang\n",
    "> 2015011493\n",
    ">\n",
    "> <zwt15@mails.tsinghua.edu.cn>"
   ]
  },
  {
   "cell_type": "markdown",
   "metadata": {},
   "source": [
    "## Boosting \n",
    "\n",
    "According to the equations mentioned: $E = \\exp(-\\alpha_m / 2)\\sum_{\\Gamma}w_n^m + \\exp(\\alpha_m / 2)\\sum_{\\mathcal M}w_n^m, \\text{where} \\Gamma \\cup \\mathcal M = \\mathcal N$, Therefore we get:\n",
    "\n",
    "$$ E = \\exp(-\\alpha_m / 2)\\sum_{\\mathcal N}w_n^m +\\exp(-\\alpha_m / 2) - \\exp(\\alpha_m / 2)\\sum_{\\mathcal M}w_n^m = \\exp(-\\alpha_m / 2)\\sum_{\\mathcal N}w_n^m + [\\exp(\\alpha_m / 2) - \\exp(-\\alpha_m / 2)]\\sum_{\\mathcal N}w_n^mI(y_m(\\mathbf x_n) \\ne t_n)$$\n",
    "\n",
    "###  minimizing $E$ with respect to $\\alpha_m$\n",
    "$$\\begin{aligned}\n",
    "\\frac{\\partial E}{\\partial \\alpha_m} &= -\\frac12\\exp(-\\alpha_m / 2)\\sum_{\\mathcal N}w_n^m + [\\frac12\\exp(\\alpha_m / 2) + \\frac12\\exp(-\\alpha_m / 2)]\\sum_{\\mathcal N}w_n^mI(y_m(\\mathbf x_n) \\ne t_n) = 0\\\\\n",
    "&\\Rightarrow [\\exp(\\alpha_m / 2) + \\exp(-\\alpha_m / 2)]\\sum_{\\mathcal N}w_n^mI(y_m(\\mathbf x_n) \\ne t_n) = \\exp(-\\alpha_m / 2)\\sum_{\\mathcal N}w_n^m\\\\\n",
    "&\\Rightarrow [\\exp(\\alpha_m) + 1] \\epsilon_m = 1 \\Rightarrow \\alpha_m = \\ln\\frac{1-\\epsilon_m}{\\epsilon_m}\n",
    "\\end{aligned}\n",
    "$$\n",
    "\n",
    "### Update the data weights $w_n^m$\n",
    "\n",
    "We can easily find that $-\\frac12t_ny_m(\\mathbf x_n) = I(y_m(\\mathbf x_n) \\ne t_n)) - \\frac12$, therefore, \n",
    "\n",
    "$$w_n^{m+1} = w_n^m\\exp(\\alpha_m(I(y_m(\\mathbf x_n) \\ne t_n)) - \\frac12)) = w_n^m\\exp(\\alpha_mI(y_m(\\mathbf x_n) \\ne t_n)))\\exp(-\\frac12\\alpha_m)$$\n",
    "\n",
    "Since the $\\exp(-\\frac12\\alpha_m)$ is constant to all of the data, it could be ignored in data normalizing.Therefore, $w_n^{m+1} = w_n^m\\exp(\\alpha_mI(y_m(\\mathbf x_n) \\ne t_n)))$"
   ]
  }
 ],
 "metadata": {
  "kernelspec": {
   "display_name": "Python 3",
   "language": "python",
   "name": "python3"
  },
  "language_info": {
   "codemirror_mode": {
    "name": "ipython",
    "version": 3
   },
   "file_extension": ".py",
   "mimetype": "text/x-python",
   "name": "python",
   "nbconvert_exporter": "python",
   "pygments_lexer": "ipython3",
   "version": "3.5.2"
  }
 },
 "nbformat": 4,
 "nbformat_minor": 2
}
