{
 "cells": [
  {
   "cell_type": "markdown",
   "metadata": {},
   "source": [
    "# Sparse Learning, Distance and (k)NN method\n",
    "\n",
    "> Weitong Zhang\n",
    "> 2015011493\n",
    ">\n",
    "> <zwt15@mails.tsinghua.edu.cn>"
   ]
  },
  {
   "cell_type": "markdown",
   "metadata": {},
   "source": [
    "## Voronor Gird in Euclid Space\n",
    "\n",
    "We are about to prove the following statement:\n",
    "\n",
    "$$\\begin{cases}\n",
    "\\forall i\\ \\|\\vec x_i - \\vec s_1 \\|_2^2 \\ge \\|\\vec x_0 - \\vec s_1 \\|_2^2\\\\\n",
    "\\forall i\\ \\|\\vec x_i - \\vec s_2 \\|_2^2 \\ge \\|\\vec x_0 - \\vec s_2 \\|_2^2\\\\\n",
    "\\forall t\\ \\in [0,1], \\vec s = t\\vec s_1 + (1-t) \\vec s_2\n",
    "\\end{cases} \\Rightarrow \\forall i\\ \\|\\vec x_i - \\vec s \\|_2^2 \\ge \\|\\vec x_0 - \\vec s \\|_2^2\n",
    "$$\n",
    "\n",
    "$$\\begin{cases}\n",
    "\\|\\vec x_i - \\vec s \\|_2^2 - \\|\\vec x_0 - \\vec s \\|_2^2 = \\sum_j (x_{ij} - s_j)^2 - \\sum_j (x_{0j} - s_j)^2 = \\sum_j (x_{ij} - x_{0j})(x_{ij} + x_{0j} - 2s_j)\\\\\n",
    "\\|\\vec x_i - \\vec s_1 \\|_2^2 - \\|\\vec x_0 - \\vec s_1 \\|_2^2 = \\sum_j (x_{ij} - s_{1j})^2 - \\sum_j (x_{0j} - s_{1j})^2 = \\sum_j (x_{ij} - x_{0j})(x_{ij} + x_{0j} - 2s_{1j}) \\ge 0\\\\\n",
    "\\|\\vec x_i - \\vec s_2 \\|_2^2 - \\|\\vec x_0 - \\vec s_2 \\|_2^2 = \\sum_j (x_{ij} - s_{2j})^2 - \\sum_j (x_{0j} - s_{2j})^2 = \\sum_j (x_{ij} - x_{0j})(x_{ij} + x_{0j} - 2s_{2j}) \\ge 0\n",
    "\\end{cases}$$\n",
    "\n",
    "We can easily found out that the first inequation is the linear combination of the later two, therefore, \n",
    "\n",
    "$$ \\begin{aligned}\n",
    "\\|\\vec x_i - \\vec s \\|_2^2 - \\|\\vec x_0 - \\vec s \\|_2^2 = \\sum_j (x_{ij} - s_j)^2 - \\sum_j (x_{0j} - s_j)^2 = \\sum_j (x_{ij} - x_{0j})(x_{ij} + x_{0j} - 2s_j) \\\\\n",
    "= t(\\sum_j (x_{ij} - x_{0j})(x_{ij} + x_{0j} - 2s_{1j})) + (1-t) (\\sum_j (x_{ij} - x_{0j})(x_{ij} + x_{0j} - 2s_{2j})) \\ge 0\n",
    "\\end{aligned}$$\n",
    "\n",
    "Therefore, the set determined by Voronoi is a convex set"
   ]
  },
  {
   "cell_type": "markdown",
   "metadata": {},
   "source": [
    "## Error rate of NN method\n",
    "\n",
    "### Error rate of Baysian Method\n",
    "\n",
    "Since the probability of $x \\in [0,\\frac{cr}{c-1}]$, the classifier could be only randomly chosen from all of the $c$ categories\n",
    "\n",
    "$$P^* = \\sum_i P(w_i)P_{err} = \\frac{cr}{c-1} \\times \\frac{c-1}{c} = r$$\n",
    "\n",
    "### Error rate of NN method\n",
    "\n",
    "Suppose that the number of samples in the training dataset is sufficient, i.e. for each $x$ where $p(x|w_i) \\ne 0$, there are enough samples belong to $w_i$\n",
    "\n",
    "For each $x\\in w_i$, if $x \\in [i,i+ 1 - \\frac{cr}{c-1}]$, the NN method will not generate error, if $x\\in [0,\\frac{cr}{c-1}]$, the nearest sample of $x$ belongs to all of the $c$ categories, therefore, the probability of error is $\\frac{c-1}{c}$\n",
    "\n",
    "Therefore, the error rate of NN method is \n",
    "\n",
    "$$\\frac{cr}{c-1} \\times \\frac{c-1}{c} = r = P^*$$"
   ]
  },
  {
   "cell_type": "markdown",
   "metadata": {},
   "source": [
    "## Minkowski Distance\n",
    "\n",
    "Minkowski distance should be described as:\n",
    "\n",
    "$$ D(X,Y) = (\\sum_i |x_i - y_i|^p )^{1/p}$$\n",
    "\n",
    "According to the definition of distance, a distance should obey the following rules:\n",
    "\n",
    "$$\\begin{aligned}\n",
    "D(p,q) & \\ge 0, D(p,q) = 0 \\Leftrightarrow p = q\\\\\n",
    "D(p,q) &= D(q,p)\\\\\n",
    "D(p,q) &\\le D(p,z) + D(q,z)\n",
    "\\end{aligned}$$\n",
    "\n",
    "Owing to the fact that $|x| = |-x| \\ge 0, |x| = 0 \\Leftrightarrow x = 0$, the first two rules are easily satisfied. We are about to prove:\n",
    "\n",
    "$$ (\\sum_i |x_i + y_i|^p )^{1/p} \\le (\\sum_i |x_i|^p )^{1/p} + (\\sum_i |y_i|^p )^{1/p}$$\n",
    "\n",
    "$$ \\sum_i |x_i + y_i|^p = \\sum_i |x_i + y_i| \\times |x_i + y_i|^{p-1} \\le \\sum_i |x_i| \\times |x_i + y_i|^{p-1} + \\sum_i |y_i| \\times |x_i + y_i|^{p-1}$$\n",
    "\n",
    "Now, we have to use the $\\mathrm {H\\ddot older}$ inequation:\n",
    "\n",
    "$$\\sum_i u_iv_i \\le (\\sum u_i^p)^{\\frac1p}(v_i^q)^{\\frac1q}, \\text{ where } \\frac1p + \\frac1q = 1$$\n",
    "\n",
    "Therefore:\n",
    "\n",
    "$$\\sum_i |x_i| \\times |x_i + y_i|^{p-1} \\le (\\sum_i |x_i|^p)^{\\frac1p}(\\sum_i|x_i + y_i|^{(p-1)q})^{\\frac1q}, \\text{ where } \\frac1p + \\frac1q = 1 \\Rightarrow pq - q = p$$\n",
    "\n",
    "Therefore:\n",
    "\n",
    "$$\\sum_i |x_i| \\times |x_i + y_i|^{p-1} + \\sum_i |y_i| \\times |x_i + y_i|^{p-1} \\le (\\sum_i |x_i|^p)^{\\frac1p}(\\sum_i |x_i + y_i|^p)^{\\frac1q} + (\\sum_i |y_i|^p)^{\\frac1p}(\\sum_i |x_i + y_i|^p)^{\\frac1q}$$\n",
    "\n",
    "Therefore, since $\\frac1p + \\frac1q = 1$, we get\n",
    "\n",
    "$$\\begin{aligned}\n",
    "&\\sum_i |x_i + y_i|^p \\le ((\\sum_i |y_i|^p)^{\\frac1p} + (\\sum_i |x_i|^p)^{\\frac1p})(\\sum_i |x_i + y_i|^p)^{\\frac1q}\\\\\n",
    "&\\Leftrightarrow \\frac{\\sum_i |x_i + y_i|^p}{(\\sum_i |x_i + y_i|^p)^{\\frac1q}} \\le (\\sum_i |y_i|^p)^{\\frac1p} + (\\sum_i |x_i|^p)^{\\frac1p}\\\\\n",
    "&\\Leftrightarrow (\\sum_i |x_i + y_i|^p )^{1/p} \\le (\\sum_i |x_i|^p )^{1/p} + (\\sum_i |y_i|^p )^{1/p}\n",
    "\\end{aligned}$$\n",
    "\n",
    "The prove above use the [Hölder's inequality](https://en.wikipedia.org/wiki/Hölder%27s_inequality#Proof_of_Hölder's_inequality)\n"
   ]
  },
  {
   "cell_type": "markdown",
   "metadata": {},
   "source": [
    "## Programming\n",
    "\n",
    "### Getting the MNIST data\n",
    "\n",
    "In order to minimize the file to upload, we get the MNIST data from website each time"
   ]
  },
  {
   "cell_type": "code",
   "execution_count": 1,
   "metadata": {
    "collapsed": true
   },
   "outputs": [],
   "source": [
    "import gzip\n",
    "import matplotlib.pyplot as plt\n",
    "import numpy as np\n",
    "import os\n",
    "import shutil\n",
    "import struct\n",
    "import sys\n",
    "try: \n",
    "    from urllib.request import urlretrieve \n",
    "except ImportError: \n",
    "    from urllib import urlretrieve\n",
    "from sklearn.model_selection import train_test_split\n",
    "from sklearn.metrics import accuracy_score\n",
    "from scipy.stats import mode\n",
    "import time"
   ]
  },
  {
   "cell_type": "code",
   "execution_count": 2,
   "metadata": {},
   "outputs": [
    {
     "name": "stdout",
     "output_type": "stream",
     "text": [
      "Downloading http://yann.lecun.com/exdb/mnist/train-images-idx3-ubyte.gz\n",
      "Downloading http://yann.lecun.com/exdb/mnist/train-labels-idx1-ubyte.gz\n",
      "Downloading http://yann.lecun.com/exdb/mnist/t10k-images-idx3-ubyte.gz\n",
      "Downloading http://yann.lecun.com/exdb/mnist/t10k-labels-idx1-ubyte.gz\n"
     ]
    }
   ],
   "source": [
    "def loadData(src, cimg):\n",
    "    print ('Downloading ' + src)\n",
    "    gzfname, h = urlretrieve(src, './delete.me')\n",
    "    try:\n",
    "        with gzip.open(gzfname) as gz:\n",
    "            n = struct.unpack('I', gz.read(4))\n",
    "            # Read magic number.\n",
    "            if n[0] != 0x3080000:\n",
    "                raise Exception('Invalid file: unexpected magic number.')\n",
    "            # Read number of entries.\n",
    "            n = struct.unpack('>I', gz.read(4))[0]\n",
    "            if n != cimg:\n",
    "                raise Exception('Invalid file: expected {0} entries.'.format(cimg))\n",
    "            crow = struct.unpack('>I', gz.read(4))[0]\n",
    "            ccol = struct.unpack('>I', gz.read(4))[0]\n",
    "            if crow != 28 or ccol != 28:\n",
    "                raise Exception('Invalid file: expected 28 rows/cols per image.')\n",
    "            # Read data.\n",
    "            res = np.frombuffer(gz.read(cimg * crow * ccol), dtype = np.uint8)\n",
    "    finally:\n",
    "        os.remove(gzfname)\n",
    "    return res.reshape((cimg, crow * ccol))\n",
    "\n",
    "def loadLabels(src, cimg):\n",
    "    print ('Downloading ' + src)\n",
    "    gzfname, h = urlretrieve(src, './delete.me')\n",
    "    try:\n",
    "        with gzip.open(gzfname) as gz:\n",
    "            n = struct.unpack('I', gz.read(4))\n",
    "            # Read magic number.\n",
    "            if n[0] != 0x1080000:\n",
    "                raise Exception('Invalid file: unexpected magic number.')\n",
    "            # Read number of entries.\n",
    "            n = struct.unpack('>I', gz.read(4))\n",
    "            if n[0] != cimg:\n",
    "                raise Exception('Invalid file: expected {0} rows.'.format(cimg))\n",
    "            # Read labels.\n",
    "            res = np.frombuffer(gz.read(cimg), dtype = np.uint8)\n",
    "    finally:\n",
    "        os.remove(gzfname)\n",
    "    return res.reshape((cimg, 1))\n",
    "\n",
    "def try_download(dataSrc, labelsSrc, cimg):\n",
    "    data = loadData(dataSrc, cimg)\n",
    "    labels = loadLabels(labelsSrc, cimg)\n",
    "    return data.astype(np.float32)/256.0,labels\n",
    "\n",
    "# URLs for the train image and label data\n",
    "url_train_image = 'http://yann.lecun.com/exdb/mnist/train-images-idx3-ubyte.gz'\n",
    "url_train_labels = 'http://yann.lecun.com/exdb/mnist/train-labels-idx1-ubyte.gz'\n",
    "num_train_samples = 60000\n",
    "train_data,train_labels = try_download(url_train_image, url_train_labels, num_train_samples)\n",
    "\n",
    "# URLs for the test image and label data\n",
    "url_test_image = 'http://yann.lecun.com/exdb/mnist/t10k-images-idx3-ubyte.gz'\n",
    "url_test_labels = 'http://yann.lecun.com/exdb/mnist/t10k-labels-idx1-ubyte.gz'\n",
    "num_test_samples = 10000\n",
    "test_data,test_labels = try_download(url_test_image, url_test_labels, num_test_samples)"
   ]
  },
  {
   "cell_type": "markdown",
   "metadata": {},
   "source": [
    "### Kernel of NN method"
   ]
  },
  {
   "cell_type": "code",
   "execution_count": 3,
   "metadata": {
    "collapsed": true
   },
   "outputs": [],
   "source": [
    "train_sum = 60000\n",
    "test_sum = 10000\n",
    "\n",
    "def kernel_nn(k,distance,testing,data,label):\n",
    "    dist = np.hstack((distance(testing,data).reshape((-1,1)),label))\n",
    "    sel = dist[np.lexsort(dist[:,::-1].T)]\n",
    "    sel = sel[:k,1]\n",
    "    predict,_ = mode(sel)\n",
    "    return predict.astype(np.uint8)\n",
    "\n",
    "def minkowski(test,data, p = 2):\n",
    "    r_pos = data-test.reshape((1,-1))\n",
    "    return np.linalg.norm(r_pos,axis = 1,ord = p)\n",
    "    \n",
    "def main_nn(size,k,distance):\n",
    "    data_used, _, label_used, _ = train_test_split(train_data,train_labels,test_size = train_sum - size)\n",
    "    predict = []\n",
    "    start = time.clock()\n",
    "    for testing in test_data:\n",
    "        predict.append(kernel_nn(k,distance, testing,data_used,label_used))\n",
    "    end = time.clock()\n",
    "    return accuracy_score(test_labels,predict), end - start"
   ]
  },
  {
   "cell_type": "markdown",
   "metadata": {},
   "source": [
    "### The influence of number of samples on the performance of the classifier\n",
    "\n",
    "According to the algorithm, the space complexity is $\\mathcal O(n)$ (suppose the sort function could be done locally). The time complexity is $\\mathcal O(N\\log N) + \\mathcal O(Nd)$, where $N$ is the number of samples. $d$ is the dimension of the features.\n",
    "\n",
    "The accuracy of the classifier would keep increasing as the number of the samples increasing. However, the increasing rate would be slow down\n",
    "\n",
    "In this experiment, we set $k = 5$ and the distance function is euclid distance."
   ]
  },
  {
   "cell_type": "code",
   "execution_count": 4,
   "metadata": {},
   "outputs": [
    {
     "name": "stdout",
     "output_type": "stream",
     "text": [
      "Sample = 6, Acc = 10.4%, TimeElapsed = 3.056995e+03ms\n",
      "Sample = 60, Acc = 56.5%, TimeElapsed = 3.510983e+03ms\n",
      "Sample = 600, Acc = 84.4%, TimeElapsed = 1.202967e+04ms\n",
      "Sample = 6000, Acc = 93.7%, TimeElapsed = 5.651620e+05ms\n",
      "Sample = 60000, Acc = 96.9%, TimeElapsed = 9.257722e+06ms\n"
     ]
    }
   ],
   "source": [
    "for samples in [6,60,600,6000,60000]:\n",
    "    preform,t = main_nn(samples,5,minkowski)\n",
    "    print ('Sample = {}, Acc = {:.1f}%, TimeElapsed = {:e}ms'.format(samples,preform * 100, t * 1000))"
   ]
  },
  {
   "cell_type": "markdown",
   "metadata": {},
   "source": [
    "### The influence of $k$ on the performance of the classifier\n",
    "\n",
    "We test $k = 1,3,5,7,9,11$ in the situation that number of samples is 60,000 to check the incluence of $k$ on the performance of the classifier. The distance function is still set to euclid function.\n",
    "\n",
    "As the result shows, the accuracy of the performance is not increasing, This might because the number of samples is too large, therefore, we do this experiment again setting the number of samples to 600.\n",
    "\n",
    "After setting the number of samples to 600, we can find out that the accuracy of the classifier is dropping, which might because the train set is too small, that the 11-th sample, 9-th sample are not belong to the same category of the testing one."
   ]
  },
  {
   "cell_type": "code",
   "execution_count": null,
   "metadata": {},
   "outputs": [],
   "source": [
    "for k in [1,3,5,7,9,11]:\n",
    "    preform,t = main_nn(60000,k,minkowski)\n",
    "    print ('k = {}, Acc = {:.1f}%, TimeElapsed = {:e}ms'.format(k,preform * 100, t * 1000))"
   ]
  },
  {
   "cell_type": "code",
   "execution_count": 6,
   "metadata": {},
   "outputs": [
    {
     "name": "stdout",
     "output_type": "stream",
     "text": [
      "k = 1, Acc = 86.7%, TimeElapsed = 1.157651e+04ms\n",
      "k = 3, Acc = 84.3%, TimeElapsed = 1.159494e+04ms\n",
      "k = 5, Acc = 85.2%, TimeElapsed = 1.151041e+04ms\n",
      "k = 7, Acc = 84.5%, TimeElapsed = 1.178855e+04ms\n",
      "k = 9, Acc = 82.5%, TimeElapsed = 1.183797e+04ms\n",
      "k = 11, Acc = 82.8%, TimeElapsed = 1.196463e+04ms\n"
     ]
    }
   ],
   "source": [
    "for k in [1,3,5,7,9,11]:\n",
    "    preform,t = main_nn(600,k,minkowski)\n",
    "    print ('k = {}, Acc = {:.1f}%, TimeElapsed = {:e}ms'.format(k,preform * 100, t * 1000))"
   ]
  },
  {
   "cell_type": "markdown",
   "metadata": {},
   "source": [
    "### Using different distance function\n",
    "\n",
    "We use minkowski distance, where $p = 1$ (Manhattan Distance), $p = 2$ (Euclid Distance, mentioned above), Chebyshev distance to carry on this experiment.\n",
    "\n",
    "In order to improve the calc speed, we use 6000 samples only (The accuracy of euclid distance could raise up to 93.7%)"
   ]
  },
  {
   "cell_type": "code",
   "execution_count": 15,
   "metadata": {},
   "outputs": [
    {
     "name": "stdout",
     "output_type": "stream",
     "text": [
      "Chebyshev distance: Acc = 55.7%, TimeElapsed = 8.415920e+04ms\n",
      "Manhattan distance: Acc = 65.7%, TimeElapsed = 8.348229e+04ms\n",
      "Euclid distance: Acc = 93.7%, TimeElapsed = 1.313823e+05ms\n"
     ]
    }
   ],
   "source": [
    "def manhattan(test,data):\n",
    "    return minkowski(test,data,p=1)\n",
    "\n",
    "def chebyshev(test,data):\n",
    "    r_pos = data-test.reshape((1,-1))\n",
    "    return np.max(r_pos,axis = 1)\n",
    "\n",
    "preform,t = main_nn(6000,5,chebyshev)\n",
    "print ('Chebyshev distance: Acc = {:.1f}%, TimeElapsed = {:e}ms'.format(preform * 100, t * 1000))\n",
    "\n",
    "preform,t = main_nn(6000,5,chebyshev)\n",
    "print ('Manhattan distance: Acc = {:.1f}%, TimeElapsed = {:e}ms'.format(preform * 100, t * 1000))\n",
    "\n",
    "preform,t = main_nn(6000,5,minkowski)\n",
    "print ('Euclid distance: Acc = {:.1f}%, TimeElapsed = {:e}ms'.format(preform * 100, t * 1000))"
   ]
  },
  {
   "cell_type": "markdown",
   "metadata": {},
   "source": [
    "### Finding the weight for each element\n",
    "\n",
    "We are about to find $\\vec a$, s.t. $x_k' = a_kx_k$ performs better than the original one. This is equivalence to finding a diagonal, positive definite matrix $\\mathbf Q$ such that the euclid distance would change to $\\vec x^{\\mathrm T}\\mathbf Q\\vec x$"
   ]
  },
  {
   "cell_type": "code",
   "execution_count": 27,
   "metadata": {},
   "outputs": [
    {
     "name": "stdout",
     "output_type": "stream",
     "text": [
      "Euclid distance: Acc = 93.7%, TimeElapsed = 9.777281e+05ms\n"
     ]
    }
   ],
   "source": [
    "a = np.ones(28*28)\n",
    "def sqr_distance(test,data, p = 2):\n",
    "    r_pos = (data-test.reshape((1,-1))) * a\n",
    "    return np.linalg.norm(r_pos,axis = 1,ord = p)\n",
    "\n",
    "preform,t = main_nn(6000,5,sqr_distance)\n",
    "print ('Euclid distance: Acc = {:.1f}%, TimeElapsed = {:e}ms'.format(preform * 100, t * 1000))"
   ]
  }
 ],
 "metadata": {
  "kernelspec": {
   "display_name": "Python 3",
   "language": "python3",
   "name": "python3"
  }
 },
 "nbformat": 4,
 "nbformat_minor": 2
}
