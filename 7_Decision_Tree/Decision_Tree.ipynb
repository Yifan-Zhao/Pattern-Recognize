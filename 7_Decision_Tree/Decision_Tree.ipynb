{
 "cells": [
  {
   "cell_type": "markdown",
   "metadata": {},
   "source": [
    "### Data read in and Train-Test split"
   ]
  },
  {
   "cell_type": "code",
   "execution_count": 1,
   "metadata": {
    "scrolled": true
   },
   "outputs": [],
   "source": [
    "import scipy.io as sio\n",
    "import numpy as np\n",
    "from scipy import stats\n",
    "\n",
    "matfile = sio.loadmat('./Sogou_data/Sogou_webpage.mat')\n",
    "label = matfile['doclabel']\n",
    "feature = matfile['wordMat']\n",
    "\n",
    "data = np.concatenate((feature,label), axis=1)\n",
    "np.random.shuffle(data)\n",
    "\n",
    "train_data = data[:int(0.6*data.shape[0]),:]\n",
    "valid_data = data[int(0.6*data.shape[0]):int(0.8*data.shape[0]),:]\n",
    "test_data = data[int(0.8*data.shape[0]):,:]\n",
    "\n",
    "train = {'feature':None,'label':None}\n",
    "valid = {'feature':None,'label':None}\n",
    "test = {'feature':None,'label':None}\n",
    "\n",
    "for pair in [[train_data,train],[valid_data,valid],[test_data,test]]:\n",
    "    pair[1]['feature'] = pair[0][:,:-1]\n",
    "    pair[1]['label'] = pair[0][:,-1]\n",
    "    \n",
    "labels = np.linspace(1,9,9)"
   ]
  },
  {
   "cell_type": "code",
   "execution_count": 2,
   "metadata": {},
   "outputs": [],
   "source": [
    "def Impurity(samples, style='entropy'):\n",
    "    if samples.shape[0] == 0:\n",
    "        return 0\n",
    "    eps = 1e-6\n",
    "    P = np.zeros(labels.shape[0])\n",
    "    for i in range(labels.shape[0]):\n",
    "        P[i] = np.sum(samples == labels[i])\n",
    "    P = P / samples.shape[0]\n",
    "    if style == 'entropy':\n",
    "        return -np.sum(P * np.log2(P + eps))\n",
    "    elif style == 'gini':\n",
    "        return 1 - np.sum(P * P)\n",
    "    else:\n",
    "        raise ('No impurity style called '+ style)"
   ]
  },
  {
   "cell_type": "code",
   "execution_count": 3,
   "metadata": {},
   "outputs": [],
   "source": [
    "from collections import deque\n",
    "Q = deque()\n",
    "class node:\n",
    "    def __init__(self,style='entropy',thresh=0):\n",
    "        self.thresh = thresh\n",
    "        self.style = style\n",
    "        self.im = 0\n",
    "        self.l = None\n",
    "        self.r = None\n",
    "        self.parent = None\n",
    "        self.feature = None\n",
    "        self.data = {'feature':None,'label':None}\n",
    "        self.isleft = False\n",
    "        self.label = None\n",
    "        self.valid_idx = []\n",
    "    def SelectFeature(self):\n",
    "        \n",
    "        imp = np.zeros(self.data['feature'].shape[1])\n",
    "        for f in range(self.data['feature'].shape[1]):\n",
    "\n",
    "            idx_left = (self.data['feature'][:,f] == 0)\n",
    "            idx_right = (self.data['feature'][:,f] == 1)\n",
    "            \n",
    "            \n",
    "\n",
    "            label_left = self.data['label'][idx_left]\n",
    "            label_right = self.data['label'][idx_right]\n",
    "            \n",
    "            imp[f] = label_left.shape[0] * Impurity(label_left,self.style) + label_right.shape[0] * Impurity(label_right,self.style)\n",
    "        \n",
    "        self.feature = np.argmin(imp)\n",
    "        \n",
    "    def SplitNode(self):\n",
    "        self.l = node(self.style,self.thresh)\n",
    "        self.r = node(self.style,self.thresh)\n",
    "        \n",
    "        idx_left = self.data['feature'][:,self.feature] == 0\n",
    "        idx_right = self.data['feature'][:,self.feature] == 1\n",
    "        \n",
    "        \n",
    "        if np.sum(idx_left) == 0 or np.sum(idx_right) == 0:\n",
    "            self.l = None\n",
    "            self.r = None\n",
    "            return False\n",
    "        \n",
    "        \n",
    "        self.l.data['label'] = self.data['label'][idx_left]\n",
    "        self.r.data['label'] = self.data['label'][idx_right]\n",
    "        \n",
    "        self.l.data['feature'] = self.data['feature'][idx_left,:]\n",
    "        self.r.data['feature'] = self.data['feature'][idx_right,:]\n",
    "        \n",
    "        self.l.node_impurity()\n",
    "        self.r.node_impurity()\n",
    "        self.l.parent = self\n",
    "        self.r.parent = self\n",
    "        \n",
    "        self.l.isleft = True\n",
    "        self.l.label = stats.mode(self.l.data['label'])\n",
    "        self.r.label = stats.mode(self.r.data['label'])\n",
    "        \n",
    "        if self.im - (self.l.data['label'].shape[0] * self.l.im + self.r.data['label'].shape[0] * self.r.im) / \\\n",
    "        (self.l.data['label'].shape[0] + self.r.data['label'].shape[0]) < self.thresh:\n",
    "            self.l = None\n",
    "            self.r = None\n",
    "            return False\n",
    "        else:\n",
    "            \n",
    "            return True\n",
    "    \n",
    "    def node_impurity(self):\n",
    "        self.im = Impurity(self.data['label'],self.style)\n",
    "        return self.im\n",
    "    \n",
    "    def GenerateTree(self):\n",
    "        if self.im < self.thresh or self.data['label'].shape[0] <= 1:\n",
    "            return\n",
    "        else:\n",
    "            self.SelectFeature()\n",
    "            if not self.SplitNode():\n",
    "                return\n",
    "            self.l.GenerateTree()\n",
    "            self.r.GenerateTree()\n",
    "            if self.l.l is None and self.l.r is None and self.r.l is None and self.r.r is None:\n",
    "                Q.append(self)     \n",
    "            return"
   ]
  },
  {
   "cell_type": "code",
   "execution_count": 4,
   "metadata": {},
   "outputs": [
    {
     "name": "stdout",
     "output_type": "stream",
     "text": [
      "<built-in method count of collections.deque object at 0x7fbe72411590>\n"
     ]
    }
   ],
   "source": [
    "def build(style,thres):\n",
    "    root = node(style,thres)\n",
    "    root.data = train\n",
    "    root.node_impurity()\n",
    "    root.label = stats.mode(root.data['label'])\n",
    "    root.GenerateTree()\n",
    "    return root\n",
    "\n",
    "T = build('entropy',0.01)\n"
   ]
  },
  {
   "cell_type": "code",
   "execution_count": 5,
   "metadata": {},
   "outputs": [
    {
     "name": "stdout",
     "output_type": "stream",
     "text": [
      "0.7197916666666667\n"
     ]
    }
   ],
   "source": [
    "def Decision(GeneratedTree,XToBePredited):\n",
    "    root = GeneratedTree\n",
    "    while root.l is not None and root.r is not None:\n",
    "        if XToBePredited[root.feature] == 0:\n",
    "            root = root.l\n",
    "        else:\n",
    "            root = root.r\n",
    "    return root.label[0][0]\n",
    "\n",
    "predict = np.zeros_like(test['label'])\n",
    "for idx in range(predict.shape[0]):\n",
    "    predict[idx] = Decision(T,test['feature'][idx,:])   \n",
    "acc = (predict == test['label'])\n",
    "print (sum(acc) / acc.shape[0])"
   ]
  },
  {
   "cell_type": "code",
   "execution_count": 6,
   "metadata": {},
   "outputs": [],
   "source": [
    "def Percolate(GeneratedTree, features, labels):\n",
    "    root = GeneratedTree\n",
    "    root.valid_idx = np.ones_like(labels,dtype=np.bool)\n",
    "    queue = deque()\n",
    "    queue.append(root)\n",
    "    while queue:\n",
    "        p = queue.popleft()\n",
    "        if p.l is not None and p.r is not None:\n",
    "            queue.append(p.l)\n",
    "            queue.append(p.r)\n",
    "            p.l.valid_idx = np.bitwise_and(features[:,p.feature] == 0, p.valid_idx)\n",
    "            p.r.valid_idx = np.bitwise_and(features[:,p.feature] == 1, p.valid_idx)\n",
    "    return GeneratedTree\n",
    "\n"
   ]
  },
  {
   "cell_type": "code",
   "execution_count": 18,
   "metadata": {},
   "outputs": [],
   "source": [
    "def Punning(GeneratedTree, CrossValidationDataset):\n",
    "    GT = Percolate(GeneratedTree,CrossValidationDataset['feature'],CrossValidationDataset['label'])\n",
    "    while Q:\n",
    "        p = Q.popleft()\n",
    "        error_child = np.sum(CrossValidationDataset['label'][p.l.valid_idx] != p.l.label) + \\\n",
    "            np.sum(CrossValidationDataset['label'][p.r.valid_idx] != p.r.label)\n",
    "        error_parent = np.sum(CrossValidationDataset['label'][p.valid_idx] != p.label)\n",
    "        #print (error_parent,error_child)\n",
    "        if error_parent < error_child:\n",
    "            # punning:\n",
    "            p.l = None\n",
    "            p.r = None\n",
    "            if (p.isleft and p.parent.r is None) or ((not p.isleft) and p.parent.l is None):\n",
    "                Q.append(p.parent)\n",
    "    return GT\n",
    "#Punning (T,valid)"
   ]
  },
  {
   "cell_type": "code",
   "execution_count": 19,
   "metadata": {},
   "outputs": [
    {
     "name": "stdout",
     "output_type": "stream",
     "text": [
      "0.7274305555555556\n"
     ]
    }
   ],
   "source": [
    "T = Punning(T,valid)\n",
    "predict = np.zeros_like(test['label'])\n",
    "for idx in range(predict.shape[0]):\n",
    "    predict[idx] = Decision(T,test['feature'][idx,:])   \n",
    "acc = (predict == test['label'])\n",
    "print (sum(acc) / acc.shape[0])"
   ]
  }
 ],
 "metadata": {
  "kernelspec": {
   "display_name": "Python 3",
   "language": "python",
   "name": "python3"
  },
  "language_info": {
   "codemirror_mode": {
    "name": "ipython",
    "version": 3
   },
   "file_extension": ".py",
   "mimetype": "text/x-python",
   "name": "python",
   "nbconvert_exporter": "python",
   "pygments_lexer": "ipython3",
   "version": "3.5.2"
  }
 },
 "nbformat": 4,
 "nbformat_minor": 2
}
