{
 "cells": [
  {
   "cell_type": "markdown",
   "metadata": {},
   "source": [
    "### Data read in and Train-Test split"
   ]
  },
  {
   "cell_type": "code",
   "execution_count": 1,
   "metadata": {},
   "outputs": [
    {
     "name": "stdout",
     "output_type": "stream",
     "text": [
      "(8640, 1200) (8640,)\n",
      "(2880, 1200) (2880,)\n",
      "(2880, 1200) (2880,)\n"
     ]
    }
   ],
   "source": [
    "import scipy.io as sio\n",
    "import numpy as np\n",
    "\n",
    "matfile = sio.loadmat('./Sogou_data/Sogou_webpage.mat')\n",
    "label = matfile['doclabel']\n",
    "feature = matfile['wordMat']\n",
    "\n",
    "data = np.concatenate((feature,label), axis=1)\n",
    "np.random.shuffle(data)\n",
    "\n",
    "train_data = data[:int(0.6*data.shape[0]),:]\n",
    "valid_data = data[int(0.6*data.shape[0]):int(0.8*data.shape[0]),:]\n",
    "test_data = data[int(0.8*data.shape[0]):,:]\n",
    "\n",
    "train = {'feature':None,'label':None}\n",
    "valid = {'feature':None,'label':None}\n",
    "test = {'feature':None,'label':None}\n",
    "\n",
    "for pair in [[train_data,train],[valid_data,valid],[test_data,test]]:\n",
    "    pair[1]['feature'] = pair[0][:,:-1]\n",
    "    pair[1]['label'] = pair[0][:,-1]\n",
    "    \n",
    "for dataset in [train,valid,test]:\n",
    "    print (dataset['feature'].shape,dataset['label'].shape)"
   ]
  }
 ],
 "metadata": {
  "kernelspec": {
   "display_name": "Python 3",
   "language": "python3",
   "name": "python3"
  },
  "language_info": {
   "codemirror_mode": {
    "name": "ipython",
    "version": 3
   },
   "file_extension": ".py",
   "mimetype": "text/x-python",
   "name": "python",
   "nbconvert_exporter": "python",
   "pygments_lexer": "ipython3",
   "version": "3.5.2"
  }
 },
 "nbformat": 4,
 "nbformat_minor": 2
}
