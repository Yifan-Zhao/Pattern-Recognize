{
 "cells": [
  {
   "cell_type": "markdown",
   "metadata": {},
   "source": [
    "# Sparse Learning, Distance and (k)NN method\n",
    "\n",
    "> Weitong Zhang\n",
    "> 2015011493\n",
    ">\n",
    "> <zwt15@mails.tsinghua.edu.cn>"
   ]
  },
  {
   "cell_type": "markdown",
   "metadata": {},
   "source": [
    "## Voronor Gird in Euclid Space\n",
    "\n",
    "We are about to prove the following statement:\n",
    "\n",
    "$$\\begin{cases}\n",
    "\\forall i\\ \\|\\vec x_i - \\vec s_1 \\|_2^2 \\ge \\|\\vec x_0 - \\vec s_1 \\|_2^2\\\\\n",
    "\\forall i\\ \\|\\vec x_i - \\vec s_2 \\|_2^2 \\ge \\|\\vec x_0 - \\vec s_2 \\|_2^2\\\\\n",
    "\\forall t\\ \\in [0,1], \\vec s = t\\vec s_1 + (1-t) \\vec s_2\n",
    "\\end{cases} \\Rightarrow \\forall i\\ \\|\\vec x_i - \\vec s \\|_2^2 \\ge \\|\\vec x_0 - \\vec s \\|_2^2\n",
    "$$\n",
    "\n",
    "$$\\begin{cases}\n",
    "\\|\\vec x_i - \\vec s \\|_2^2 - \\|\\vec x_0 - \\vec s \\|_2^2 = \\sum_j (x_{ij} - s_j)^2 - \\sum_j (x_{0j} - s_j)^2 = \\sum_j (x_{ij} - x_{0j})(x_{ij} + x_{0j} - 2s_j)\\\\\n",
    "\\|\\vec x_i - \\vec s_1 \\|_2^2 - \\|\\vec x_0 - \\vec s_1 \\|_2^2 = \\sum_j (x_{ij} - s_{1j})^2 - \\sum_j (x_{0j} - s_{1j})^2 = \\sum_j (x_{ij} - x_{0j})(x_{ij} + x_{0j} - 2s_{1j}) \\ge 0\\\\\n",
    "\\|\\vec x_i - \\vec s_2 \\|_2^2 - \\|\\vec x_0 - \\vec s_2 \\|_2^2 = \\sum_j (x_{ij} - s_{2j})^2 - \\sum_j (x_{0j} - s_{2j})^2 = \\sum_j (x_{ij} - x_{0j})(x_{ij} + x_{0j} - 2s_{2j}) \\ge 0\n",
    "\\end{cases}$$\n",
    "\n",
    "We can easily found out that the first inequation is the linear combination of the later two, therefore, \n",
    "\n",
    "$$ \\begin{aligned}\n",
    "\\|\\vec x_i - \\vec s \\|_2^2 - \\|\\vec x_0 - \\vec s \\|_2^2 = \\sum_j (x_{ij} - s_j)^2 - \\sum_j (x_{0j} - s_j)^2 = \\sum_j (x_{ij} - x_{0j})(x_{ij} + x_{0j} - 2s_j) \\\\\n",
    "= t(\\sum_j (x_{ij} - x_{0j})(x_{ij} + x_{0j} - 2s_{1j})) + (1-t) (\\sum_j (x_{ij} - x_{0j})(x_{ij} + x_{0j} - 2s_{2j})) \\ge 0\n",
    "\\end{aligned}$$\n",
    "\n",
    "Therefore, the set determined by Voronoi is a convex set"
   ]
  },
  {
   "cell_type": "markdown",
   "metadata": {},
   "source": [
    "## Error rate of NN method\n",
    "\n",
    "### Error rate of Baysian Method\n",
    "\n",
    "Since the probability of $x \\in [0,\\frac{cr}{c-1}]$, the classifier could be only randomly chosen from all of the $c$ categories\n",
    "\n",
    "$$P^* = \\sum_i P(w_i)P_{err} = \\frac{cr}{c-1} \\times \\frac{c-1}{c} = r$$\n",
    "\n",
    "### Error rate of NN method\n",
    "\n",
    "Suppose that the number of samples in the training dataset is sufficient, i.e. for each $x$ where $p(x|w_i) \\ne 0$, there are enough samples belong to $w_i$\n",
    "\n",
    "For each $x\\in w_i$, if $x \\in [i,i+ 1 - \\frac{cr}{c-1}]$, the NN method will not generate error, if $x\\in [0,\\frac{cr}{c-1}]$, the nearest sample of $x$ belongs to all of the $c$ categories, therefore, the probability of error is $\\frac{c-1}{c}$\n",
    "\n",
    "Therefore, the error rate of NN method is \n",
    "\n",
    "$$\\frac{cr}{c-1} \\times \\frac{c-1}{c} = r = P^*$$"
   ]
  },
  {
   "cell_type": "markdown",
   "metadata": {},
   "source": [
    "## Minkowski Distance\n",
    "\n",
    "Minkowski distance should be described as:\n",
    "\n",
    "$$ D(X,Y) = (\\sum_i |x_i - y_i|^p )^{1/p}$$\n",
    "\n",
    "According to the definition of distance, a distance should obey the following rules:\n",
    "\n",
    "$$\\begin{aligned}\n",
    "D(p,q) & \\ge 0, D(p,q) = 0 \\Leftrightarrow p = q\\\\\n",
    "D(p,q) &= D(q,p)\\\\\n",
    "D(p,q) &\\le D(p,z) + D(q,z)\n",
    "\\end{aligned}$$\n",
    "\n",
    "Owing to the fact that $|x| = |-x| \\ge 0, |x| = 0 \\Leftrightarrow x = 0$, the first two rules are easily satisfied. We are about to prove:\n",
    "\n",
    "$$ (\\sum_i |x_i + y_i|^p )^{1/p} \\le (\\sum_i |x_i|^p )^{1/p} + (\\sum_i |y_i|^p )^{1/p}$$\n",
    "\n",
    "$$ \\sum_i |x_i + y_i|^p = \\sum_i |x_i + y_i| \\times |x_i + y_i|^{p-1} \\le \\sum_i |x_i| \\times |x_i + y_i|^{p-1} + \\sum_i |y_i| \\times |x_i + y_i|^{p-1}$$\n",
    "\n",
    "Now, we have to use the $\\mathrm {H\\ddot older}$ inequation:\n",
    "\n",
    "$$\\sum_i u_iv_i \\le (\\sum u_i^p)^{\\frac1p}(v_i^q)^{\\frac1q}, \\text{ where } \\frac1p + \\frac1q = 1$$\n",
    "\n",
    "Therefore:\n",
    "\n",
    "$$\\sum_i |x_i| \\times |x_i + y_i|^{p-1} \\le (\\sum_i |x_i|^p)^{\\frac1p}(\\sum_i|x_i + y_i|^{(p-1)q})^{\\frac1q}, \\text{ where } \\frac1p + \\frac1q = 1 \\Rightarrow pq - q = p$$\n",
    "\n",
    "Therefore:\n",
    "\n",
    "$$\\sum_i |x_i| \\times |x_i + y_i|^{p-1} + \\sum_i |y_i| \\times |x_i + y_i|^{p-1} \\le (\\sum_i |x_i|^p)^{\\frac1p}(\\sum_i |x_i + y_i|^p)^{\\frac1q} + (\\sum_i |y_i|^p)^{\\frac1p}(\\sum_i |x_i + y_i|^p)^{\\frac1q}$$\n",
    "\n",
    "Therefore, since $\\frac1p + \\frac1q = 1$, we get\n",
    "\n",
    "$$\\begin{aligned}\n",
    "&\\sum_i |x_i + y_i|^p \\le ((\\sum_i |y_i|^p)^{\\frac1p} + (\\sum_i |x_i|^p)^{\\frac1p})(\\sum_i |x_i + y_i|^p)^{\\frac1q}\\\\\n",
    "&\\Leftrightarrow \\frac{\\sum_i |x_i + y_i|^p}{(\\sum_i |x_i + y_i|^p)^{\\frac1q}} \\le (\\sum_i |y_i|^p)^{\\frac1p} + (\\sum_i |x_i|^p)^{\\frac1p}\\\\\n",
    "&\\Leftrightarrow (\\sum_i |x_i + y_i|^p )^{1/p} \\le (\\sum_i |x_i|^p )^{1/p} + (\\sum_i |y_i|^p )^{1/p}\n",
    "\\end{aligned}$$\n",
    "\n",
    "The prove above use the [Hölder's inequality](https://en.wikipedia.org/wiki/Hölder%27s_inequality#Proof_of_Hölder's_inequality)\n"
   ]
  },
  {
   "cell_type": "markdown",
   "metadata": {},
   "source": [
    "## Programming\n",
    "\n",
    "### Getting the MNIST data\n",
    "\n",
    "In order to minimize the file to upload, we get the MNIST data from website each time"
   ]
  },
  {
   "cell_type": "code",
   "execution_count": 1,
   "metadata": {
    "collapsed": true
   },
   "outputs": [],
   "source": [
    "import gzip\n",
    "import matplotlib.pyplot as plt\n",
    "import numpy as np\n",
    "import os\n",
    "import shutil\n",
    "import struct\n",
    "import sys\n",
    "try: \n",
    "    from urllib.request import urlretrieve \n",
    "except ImportError: \n",
    "    from urllib import urlretrieve\n",
    "from sklearn.model_selection import train_test_split\n",
    "from sklearn.metrics import accuracy_score\n",
    "from sklearn.neighbors import KNeighborsClassifier\n",
    "import time"
   ]
  },
  {
   "cell_type": "code",
   "execution_count": 2,
   "metadata": {},
   "outputs": [
    {
     "name": "stdout",
     "output_type": "stream",
     "text": [
      "Downloading http://yann.lecun.com/exdb/mnist/train-images-idx3-ubyte.gz\n",
      "Downloading http://yann.lecun.com/exdb/mnist/train-labels-idx1-ubyte.gz\n",
      "Downloading http://yann.lecun.com/exdb/mnist/t10k-images-idx3-ubyte.gz\n",
      "Downloading http://yann.lecun.com/exdb/mnist/t10k-labels-idx1-ubyte.gz\n"
     ]
    }
   ],
   "source": [
    "def loadData(src, cimg):\n",
    "    print ('Downloading ' + src)\n",
    "    gzfname, h = urlretrieve(src, './delete.me')\n",
    "    try:\n",
    "        with gzip.open(gzfname) as gz:\n",
    "            n = struct.unpack('I', gz.read(4))\n",
    "            # Read magic number.\n",
    "            if n[0] != 0x3080000:\n",
    "                raise Exception('Invalid file: unexpected magic number.')\n",
    "            # Read number of entries.\n",
    "            n = struct.unpack('>I', gz.read(4))[0]\n",
    "            if n != cimg:\n",
    "                raise Exception('Invalid file: expected {0} entries.'.format(cimg))\n",
    "            crow = struct.unpack('>I', gz.read(4))[0]\n",
    "            ccol = struct.unpack('>I', gz.read(4))[0]\n",
    "            if crow != 28 or ccol != 28:\n",
    "                raise Exception('Invalid file: expected 28 rows/cols per image.')\n",
    "            # Read data.\n",
    "            res = np.frombuffer(gz.read(cimg * crow * ccol), dtype = np.uint8)\n",
    "    finally:\n",
    "        os.remove(gzfname)\n",
    "    return res.reshape((cimg, crow * ccol))\n",
    "\n",
    "def loadLabels(src, cimg):\n",
    "    print ('Downloading ' + src)\n",
    "    gzfname, h = urlretrieve(src, './delete.me')\n",
    "    try:\n",
    "        with gzip.open(gzfname) as gz:\n",
    "            n = struct.unpack('I', gz.read(4))\n",
    "            # Read magic number.\n",
    "            if n[0] != 0x1080000:\n",
    "                raise Exception('Invalid file: unexpected magic number.')\n",
    "            # Read number of entries.\n",
    "            n = struct.unpack('>I', gz.read(4))\n",
    "            if n[0] != cimg:\n",
    "                raise Exception('Invalid file: expected {0} rows.'.format(cimg))\n",
    "            # Read labels.\n",
    "            res = np.frombuffer(gz.read(cimg), dtype = np.uint8)\n",
    "    finally:\n",
    "        os.remove(gzfname)\n",
    "    return res.reshape((cimg, 1))\n",
    "\n",
    "def try_download(dataSrc, labelsSrc, cimg):\n",
    "    data = loadData(dataSrc, cimg)\n",
    "    labels = loadLabels(labelsSrc, cimg)\n",
    "    return data.astype(np.float32)/256.0,labels\n",
    "\n",
    "# URLs for the train image and label data\n",
    "url_train_image = 'http://yann.lecun.com/exdb/mnist/train-images-idx3-ubyte.gz'\n",
    "url_train_labels = 'http://yann.lecun.com/exdb/mnist/train-labels-idx1-ubyte.gz'\n",
    "num_train_samples = 60000\n",
    "train_data,train_labels = try_download(url_train_image, url_train_labels, num_train_samples)\n",
    "\n",
    "# URLs for the test image and label data\n",
    "url_test_image = 'http://yann.lecun.com/exdb/mnist/t10k-images-idx3-ubyte.gz'\n",
    "url_test_labels = 'http://yann.lecun.com/exdb/mnist/t10k-labels-idx1-ubyte.gz'\n",
    "num_test_samples = 10000\n",
    "test_data,test_labels = try_download(url_test_image, url_test_labels, num_test_samples)\n",
    "\n",
    "train_sum = 60000\n",
    "test_sum = 10000"
   ]
  },
  {
   "cell_type": "markdown",
   "metadata": {},
   "source": [
    "### Kernel of NN method"
   ]
  },
  {
   "cell_type": "code",
   "execution_count": 3,
   "metadata": {
    "collapsed": true
   },
   "outputs": [],
   "source": [
    "def main_nn(size=60000,k=5,p=2):\n",
    "    data_used, _, label_used, _ = train_test_split(train_data,train_labels,test_size = train_sum - size)\n",
    "    neigh = KNeighborsClassifier(n_neighbors=k,p=p,n_jobs=-1)\n",
    "    start = time.clock()\n",
    "    neigh.fit(data_used,np.ravel(label_used))\n",
    "    predict = neigh.predict(test_data)\n",
    "    end = time.clock()\n",
    "    return accuracy_score(test_labels,predict),end-start"
   ]
  },
  {
   "cell_type": "markdown",
   "metadata": {},
   "source": [
    "### The influence of number of samples on the performance of the classifier\n",
    "\n",
    "According to the algorithm, the space complexity is $\\mathcal O(n)$ (suppose the sort function could be done locally). The time complexity is $\\mathcal O(N\\log N) + \\mathcal O(Nd)$, where $N$ is the number of samples. $d$ is the dimension of the features.\n",
    "\n",
    "The accuracy of the classifier would keep increasing as the number of the samples increasing. However, the increasing rate would be slow down\n",
    "\n",
    "In this experiment, we set $k = 5$ and the distance function is euclid distance."
   ]
  },
  {
   "cell_type": "code",
   "execution_count": 4,
   "metadata": {},
   "outputs": [
    {
     "name": "stdout",
     "output_type": "stream",
     "text": [
      "Samples = 6, Accuracy = 8.9%, TimeElapsed = 7.308370e-01s\n",
      "Samples = 60, Accuracy = 55.6%, TimeElapsed = 1.233036e+00s\n",
      "Samples = 600, Accuracy = 84.3%, TimeElapsed = 1.574072e+01s\n",
      "Samples = 6000, Accuracy = 93.9%, TimeElapsed = 1.957661e+02s\n",
      "Samples = 60000, Accuracy = 96.9%, TimeElapsed = 1.621419e+03s\n"
     ]
    }
   ],
   "source": [
    "for samples in [6,60,600,6000,60000]:\n",
    "    p,t = main_nn(size=samples)\n",
    "    print('Samples = {}, Accuracy = {:.1f}%, TimeElapsed = {:e}s'.format(samples,p * 100,t))"
   ]
  },
  {
   "cell_type": "markdown",
   "metadata": {},
   "source": [
    "### The influence of $k$ on the performance of the classifier\n",
    "\n",
    "We test $k = 1,3,5,7,9,11$ in the situation that number of samples is 6,000 to check the incluence of $k$ on the performance of the classifier. The distance function is still set to euclid function.\n",
    "\n",
    "As the result shows, the accuracy of the performance is not increasing, This might because the number of samples is too large, therefore, we do this experiment again setting the number of samples to 600.\n",
    "\n",
    "After setting the number of samples to 600, we can find out that the accuracy of the classifier is dropping, which might because the train set is too small, that the 11-th sample, 9-th sample are not belong to the same category of the testing one."
   ]
  },
  {
   "cell_type": "code",
   "execution_count": 5,
   "metadata": {},
   "outputs": [
    {
     "name": "stdout",
     "output_type": "stream",
     "text": [
      "In 6,000 samples: \n",
      "k = 1, Accuracy = 93.9%, TimeElapsed = 1.826142e+02s\n",
      "k = 3, Accuracy = 94.0%, TimeElapsed = 2.153683e+02s\n",
      "k = 5, Accuracy = 93.8%, TimeElapsed = 1.743024e+02s\n",
      "k = 7, Accuracy = 93.8%, TimeElapsed = 1.643828e+02s\n",
      "k = 9, Accuracy = 93.4%, TimeElapsed = 1.675853e+02s\n",
      "k = 11, Accuracy = 93.0%, TimeElapsed = 2.062031e+02s\n",
      "In 600 samples: \n",
      "k = 1, Accuracy = 87.0%, TimeElapsed = 2.327630e+01s\n",
      "k = 3, Accuracy = 83.8%, TimeElapsed = 1.876983e+01s\n",
      "k = 5, Accuracy = 84.8%, TimeElapsed = 1.583720e+01s\n",
      "k = 7, Accuracy = 83.0%, TimeElapsed = 1.719769e+01s\n",
      "k = 9, Accuracy = 84.4%, TimeElapsed = 1.760499e+01s\n",
      "k = 11, Accuracy = 81.1%, TimeElapsed = 2.172389e+01s\n"
     ]
    }
   ],
   "source": [
    "print('In 6,000 samples: ')\n",
    "for k in [1,3,5,7,9,11]:\n",
    "    p,t = main_nn(size=6000,k=k)\n",
    "    print('k = {}, Accuracy = {:.1f}%, TimeElapsed = {:e}s'.format(k,p * 100,t))\n",
    "print('In 600 samples: ')    \n",
    "for k in [1,3,5,7,9,11]:\n",
    "    p,t = main_nn(size=600, k=k)\n",
    "    print('k = {}, Accuracy = {:.1f}%, TimeElapsed = {:e}s'.format(k,p * 100,t))"
   ]
  },
  {
   "cell_type": "markdown",
   "metadata": {},
   "source": [
    "### Using different distance function\n",
    "\n",
    "We use minkowski distance, where $p = 1$ (Manhattan Distance), $p = 2$ (Euclid Distance, mentioned above),$p = \\infty$ (Chebyshev distance) to carry on this experiment."
   ]
  },
  {
   "cell_type": "code",
   "execution_count": 6,
   "metadata": {},
   "outputs": [
    {
     "name": "stdout",
     "output_type": "stream",
     "text": [
      "p = 1, Accuracy = 96.2%, TimeElapsed = 1.395925e+03s\n",
      "p = 2, Accuracy = 96.9%, TimeElapsed = 1.491500e+03s\n",
      "p = inf, Accuracy = 82.0%, TimeElapsed = 1.211863e+03s\n"
     ]
    }
   ],
   "source": [
    "for s in [1,2,float('inf')]:\n",
    "    p,t = main_nn(p=s)\n",
    "    print('p = {}, Accuracy = {:.1f}%, TimeElapsed = {:e}s'.format(s,p * 100,t))"
   ]
  },
  {
   "cell_type": "markdown",
   "metadata": {},
   "source": [
    "### Finding the weight for each element\n",
    "\n",
    "Our idea is to split the training dataset to validation dataset and training dataset, and use the validation dataset to correct the $\\vec a$, all of the algorithm is described below"
   ]
  },
  {
   "cell_type": "code",
   "execution_count": 16,
   "metadata": {
    "scrolled": true
   },
   "outputs": [
    {
     "name": "stdout",
     "output_type": "stream",
     "text": [
      "Minibatch 0: accuracy: 93.5%, max A = 0.5055099927808507, min A = 0.49996787256900094\n",
      "Minibatch 10: accuracy: 93.5%, max A = 0.559354316315876, min A = 0.49990211677973995\n",
      "Minibatch 20: accuracy: 93.4%, max A = 0.6108741201380742, min A = 0.4998424197889787\n",
      "Minibatch 30: accuracy: 93.9%, max A = 0.6573919243102042, min A = 0.4999162005120227\n",
      "Minibatch 40: accuracy: 93.5%, max A = 0.7027156033852391, min A = 0.49989666787345455\n",
      "Minibatch 50: accuracy: 94.1%, max A = 0.7447137072905489, min A = 0.4998838176501185\n",
      "Minibatch 60: accuracy: 94.1%, max A = 0.7798801837313025, min A = 0.49985455884878827\n",
      "Minibatch 70: accuracy: 94.0%, max A = 0.812561777096363, min A = 0.49974980951606035\n",
      "Minibatch 80: accuracy: 93.5%, max A = 0.8404695532318701, min A = 0.49959202563092187\n",
      "Minibatch 90: accuracy: 94.5%, max A = 0.864383612005931, min A = 0.4995014912335734\n"
     ]
    }
   ],
   "source": [
    "def get_A():\n",
    "    A = np.zeros(28 * 28)\n",
    "    lr = 0.001\n",
    "    epoch = 100\n",
    "    batch_size = 5000\n",
    "    inner_iter = 10\n",
    "    for batch in range(epoch):\n",
    "        td,vd,tl,vl = train_test_split(train_data,train_labels,train_size = batch_size, test_size = batch_size)\n",
    "        for inner in range(inner_iter):\n",
    "            neigh = KNeighborsClassifier(n_neighbors=1,n_jobs=12)\n",
    "            eA = 1.0 / (1 + np.exp(-A))\n",
    "            neigh.fit(td * eA,np.ravel(tl))\n",
    "            pre = neigh.kneighbors(vd * eA)[1]\n",
    "            pre_label = tl[pre]\n",
    "            nei = td[pre]\n",
    "            acc = 0\n",
    "            for i in range(batch_size):\n",
    "                delta = nei[i] - vd[i]\n",
    "                l = np.abs(delta) / np.linalg.norm(delta) / np.linalg.norm(delta)\n",
    "                if pre_label[i] != vl[i]: \n",
    "                    A = A + lr * l \n",
    "                else:\n",
    "                    acc = acc + 1\n",
    "                    A = A - 1e-2 * lr * l\n",
    "        if batch % 10 == 0:\n",
    "            print ('Minibatch {}: accuracy: {:.1f}%, max A = {}, min A = {}'\n",
    "                   .format(batch,acc / batch_size * 100, np.max(eA),np.min(eA)))\n",
    "            \n",
    "    eA = 1.0 / (1 + np.exp(-A))\n",
    "    return eA\n",
    "A = get_A()"
   ]
  },
  {
   "cell_type": "code",
   "execution_count": 17,
   "metadata": {
    "scrolled": true
   },
   "outputs": [
    {
     "name": "stdout",
     "output_type": "stream",
     "text": [
      "New: Accuracy = 94.2%, TimeElapsed = 2.059350e+02s\tOld: Accuracy = 93.9%, TimeElapsed = 3.098662e+02s\n",
      "New: Accuracy = 94.2%, TimeElapsed = 1.638133e+02s\tOld: Accuracy = 93.8%, TimeElapsed = 3.183988e+02s\n",
      "New: Accuracy = 94.1%, TimeElapsed = 1.642004e+02s\tOld: Accuracy = 93.9%, TimeElapsed = 3.015391e+02s\n",
      "New: Accuracy = 94.4%, TimeElapsed = 1.648305e+02s\tOld: Accuracy = 93.9%, TimeElapsed = 3.045074e+02s\n",
      "New: Accuracy = 94.0%, TimeElapsed = 1.647256e+02s\tOld: Accuracy = 93.6%, TimeElapsed = 3.128420e+02s\n",
      "New: Accuracy = 94.3%, TimeElapsed = 1.652688e+02s\tOld: Accuracy = 94.1%, TimeElapsed = 3.146009e+02s\n",
      "New: Accuracy = 94.2%, TimeElapsed = 1.639273e+02s\tOld: Accuracy = 93.9%, TimeElapsed = 3.484923e+02s\n",
      "New: Accuracy = 94.2%, TimeElapsed = 1.644854e+02s\tOld: Accuracy = 93.9%, TimeElapsed = 3.055928e+02s\n",
      "New: Accuracy = 94.1%, TimeElapsed = 1.635961e+02s\tOld: Accuracy = 93.6%, TimeElapsed = 1.987871e+02s\n",
      "New: Accuracy = 94.5%, TimeElapsed = 1.977218e+02s\tOld: Accuracy = 94.1%, TimeElapsed = 3.124966e+02s\n"
     ]
    }
   ],
   "source": [
    "def main_nn_with_a(A, size=6000):\n",
    "    data_used, _, label_used, _ = train_test_split(train_data,train_labels,test_size = train_sum - size)\n",
    "    neigh = KNeighborsClassifier(n_neighbors=1,n_jobs=12)\n",
    "    start = time.clock()\n",
    "    neigh.fit(data_used * A,np.ravel(label_used))\n",
    "    predict = neigh.predict(test_data * A)\n",
    "    end = time.clock()\n",
    "    neigh_old = KNeighborsClassifier(n_neighbors=1,n_jobs=-1)\n",
    "    \n",
    "    start_old = time.clock()\n",
    "    neigh_old.fit(data_used,np.ravel(label_used))\n",
    "    predict_old = neigh_old.predict(test_data)\n",
    "    end_old = time.clock()\n",
    "    return accuracy_score(test_labels,predict),end-start, \\\n",
    "        accuracy_score(test_labels,predict_old),end_old-start_old\n",
    "\n",
    "\n",
    "for _ in range(10):\n",
    "    p,t,p_old,t_old = main_nn_with_a(A, size=6000)\n",
    "    print('New: Accuracy = {:.1f}%, TimeElapsed = {:e}s\\tOld: Accuracy = {:.1f}%, TimeElapsed = {:e}s'\n",
    "      .format(p * 100,t,p_old * 100,t_old))"
   ]
  },
  {
   "cell_type": "code",
   "execution_count": 18,
   "metadata": {
    "scrolled": true
   },
   "outputs": [
    {
     "data": {
      "image/png": "[encoded data removed]",
      "text/plain": [
       "<Figure size 432x288 with 1 Axes>"
      ]
     },
     "metadata": {},
     "output_type": "display_data"
    }
   ],
   "source": [
    "plt.imshow(A.reshape((28,28)))\n",
    "plt.show()"
   ]
  },
  {
   "cell_type": "markdown",
   "metadata": {},
   "source": [
    "### Tangent distance on MNIST\n",
    "\n",
    "#### Tangent Distance\n",
    "\n",
    "There are two kinds of tangent distance, which will be discussed as following:\n",
    "\n",
    "- One sided tangent distance\n",
    "\n",
    "Let $S_{\\vec x_p}(\\alpha)$ be a nonlinear mapping from $\\mathbb R^m \\rightarrow\\mathbb R^m$ that deforms\n",
    "the image $\\vec x_p$ by $\\alpha$ where $\\alpha \\in\\mathbb R^s$ is a vector of s deformation operation parameters.\n",
    "\n",
    "$$J = \\frac{\\partial S}{\\partial \\alpha}\\mid_{\\alpha=0}$$\n",
    "\n",
    "Then, the one sided tangent distance should be described as \n",
    "\n",
    "$$D = \\|\\vec y - \\vec x - JJ^{\\mathrm T}(\\vec y - \\vec x)\\|_2$$\n",
    "where $\\vec y$ is a new samples to classify\n",
    "\n",
    "- Two sided tangent distance\n",
    "\n",
    "Suppose that we have got the tangent plane of two samples, \n",
    "\n",
    "$$\\begin{cases}\n",
    "\\text{Training sample: } P + L_P\\alpha_P \\\\\n",
    "\\text{Testing sample: } E + L_E\\alpha_E \\\\\n",
    "\\end{cases}$$\n",
    "\n",
    "By minimizing the distance between the two dynamic points, we can find that when \n",
    "\n",
    "$$\\begin{cases}\n",
    "(L_{PE}L_{EE}^{-1}L_E^T - L_P^T)(E-P) = (L_{PE}L_{EE}^{-1}L_{EP} - L_{PP})\\alpha_P \\\\\n",
    "(L_{EP}L_{PP}^{-1}L_P^T - L_E^T)(P-E) = (L_{EP}L_{PP}^{-1}L_{PE} - L_{EE})\\alpha_E \\\\\n",
    "\\end{cases}$$\n",
    "\n",
    "The distance arrives at its minimum value\n",
    "\n",
    "$$D = \\|E-P+L_E\\alpha_E -L_P\\alpha_P\\|_2$$\n",
    "\n",
    "It is obvious that the Two sided tangent distance performs better and need more time.\n",
    "\n",
    "#### Regularization\n",
    "\n",
    "In order to make the deformation of the image not too sharp, we introduct the regularization item for two sided tangent distance, This weighting of the tangent distance is particularly useful when some of the\n",
    "tangent vectors of $E$ or $P$ are collinear\n",
    "\n",
    "$$D = \\min \\|E-P+L_E\\alpha_E -L_P\\alpha_P\\|_2^2 + \\lambda (\\|L_E\\alpha_E\\|_2^2 + \\|L_P\\alpha_P\\|_2^2)$$\n",
    "\n",
    "The solution is:\n",
    "\n",
    "$$\\begin{cases}\n",
    "(L_{PE}L_{EE}^{-1}L_E^T - (1+\\lambda)L_P^T)(E-P) = (L_{PE}L_{EE}^{-1}L_{EP} - (1+\\lambda)^2L_{PP})\\alpha_P \\\\\n",
    "(L_{EP}L_{PP}^{-1}L_P^T - (1+\\lambda)L_E^T)(P-E) = (L_{EP}L_{PP}^{-1}L_{PE} - (1+\\lambda)^2L_{EE})\\alpha_E \\\\\n",
    "\\end{cases}$$\n",
    "\n",
    ">NOTICE: To speed up the calculating speed, only 600 samples in training dataset and 600 samples in testing dataset is used, but we will carry on this experiment for 10 times\n",
    "\n",
    "It is obvious that the accuracy for about 75% is much better than the original one 56.7%"
   ]
  },
  {
   "cell_type": "markdown",
   "metadata": {},
   "source": [
    "### Solution\n",
    "\n",
    "This chapter is focus on how to solve the function $$D = \\min \\|E-P+L_E\\alpha_E -L_P\\alpha_P\\|_2^2 + \\lambda (\\|L_E\\alpha_E\\|_2^2 + \\|L_P\\alpha_P\\|_2^2)$$\n",
    "\n",
    "$$\\begin{aligned}\n",
    "&\\frac{\\partial D}{\\partial \\alpha_E} = 2L_E^T(E-P+L_E\\alpha_E -L_P\\alpha_P) + 2\\lambda L_E^TL_E\\alpha_E = 0\\\\\n",
    "&\\Rightarrow L_E^T(E-P - L_P\\alpha_P) + (1 + \\lambda) L_E^TL_E\\alpha_E = 0\\\\\n",
    "&\\Rightarrow \\frac{\\partial D}{\\partial \\alpha_P} = 0 \\Rightarrow L_P^T(P-E - L_E\\alpha_E) + (1 + \\lambda) L_P^TL_P\\alpha_P = 0\n",
    "\\end{aligned}$$\n",
    "\n",
    "Set $L_{EE} = L_E^TL_E, L_{EP} = L_E^TL_P, L_{PE} = L_P^TL_E, L_{PP} = L_P^TL_P, \\Delta = E - P$, we get\n",
    "\n",
    "$$\\begin{aligned}\n",
    "\\frac{L_{EE}^{-1}}{1+\\lambda}(L_E^T\\Delta - L_{EP}\\alpha_P) &= \\alpha_E\\\\\n",
    "-L_P^T\\Delta - \\frac{L_{PE}L_{EE}^{-1}}{1+\\lambda}(L_E^T\\Delta - L_{EP}\\alpha_P) + (1 + \\lambda)L_{PP}\\alpha_P &= 0\\\\\n",
    "(L_{PE}L_{EE}^{-1}L_{EP} + (1 + \\lambda)^2L_{PP})\\alpha_P &= ((1+\\lambda)L_P^T + {L_{PE}L_{EE}^{-1}L_E^T})\\Delta\n",
    "\\end{aligned}$$\n",
    "\n",
    "Therefore, we get the following result:\n",
    "\n",
    "$$\\begin{cases}\n",
    "(L_{PE}L_{EE}^{-1}L_E^T - (1+\\lambda)L_P^T)(E-P) = (L_{PE}L_{EE}^{-1}L_{EP} - (1+\\lambda)^2L_{PP})\\alpha_P \\\\\n",
    "(L_{EP}L_{PP}^{-1}L_P^T - (1+\\lambda)L_E^T)(P-E) = (L_{EP}L_{PP}^{-1}L_{PE} - (1+\\lambda)^2L_{EE})\\alpha_E \\\\\n",
    "\\end{cases}$$\n"
   ]
  },
  {
   "cell_type": "code",
   "execution_count": 11,
   "metadata": {},
   "outputs": [],
   "source": [
    "import cv2\n",
    "def get_J(arr):\n",
    "    deformation_numbers = 10\n",
    "    J = np.zeros((deformation_numbers,28*28))\n",
    "    img = arr.reshape((28,28))\n",
    "    \n",
    "    ## 0: rotation: CW\n",
    "    rot_mat = cv2.getRotationMatrix2D((14,14), 10, 1.0)\n",
    "    res = cv2.warpAffine(img, rot_mat, (28,28), flags=cv2.INTER_LINEAR)\n",
    "    J[0,:] = ((res - img)/10).reshape(28*28)\n",
    "    \n",
    "    ## 1: rotation: CCW: (to avoid the nonlinear features)\n",
    "    rot_mat = cv2.getRotationMatrix2D((14,14), -10, 1.0)\n",
    "    res = cv2.warpAffine(img, rot_mat, (28,28), flags=cv2.INTER_LINEAR)\n",
    "    J[1,:] = ((res - img)/10).reshape(28*28)\n",
    "    \n",
    "    ## 2: Left\n",
    "    res = np.concatenate((img[:, 3:], img[:, :3]), axis=1)\n",
    "    J[2,:] = ((res - img)/3).reshape(28*28)\n",
    "    \n",
    "    ## 3: Right\n",
    "    res = np.concatenate((img[:, 28 - 3:], img[:, :28 - 3]), axis=1)\n",
    "    J[3,:] = ((res - img)/3).reshape(28*28)\n",
    "    \n",
    "    ## 4: Up\n",
    "    res = np.concatenate((img[3:, :], img[:3, :]), axis=0)\n",
    "    J[4,:] = ((res - img)/3).reshape(28*28)\n",
    "    \n",
    "    ## 5: Down\n",
    "    res = np.concatenate((img[28 - 3:, :], img[:28 - 3, :]), axis=0)\n",
    "    J[5,:] = ((res - img)/3).reshape(28*28)\n",
    "    \n",
    "    ## 6: 1.25x scale\n",
    "    res = cv2.resize(img,(34,34),interpolation=cv2.INTER_CUBIC)\n",
    "    res = res[3:31,3:31]\n",
    "    J[6,:] = ((res - img)/(6/28)).reshape(28*28)\n",
    "    \n",
    "    ## 7: 0.8x scale\n",
    "    res = cv2.copyMakeBorder(img,6,6,6,6,cv2.BORDER_REPLICATE)\n",
    "    res = cv2.resize(res,(28,28),interpolation=cv2.INTER_CUBIC)\n",
    "    J[7,:] = ((res - img)/(6/28)).reshape(28*28)\n",
    "    \n",
    "    ## 8: erosion\n",
    "    kernel = cv2.getStructuringElement(cv2.MORPH_RECT,(2, 2))  \n",
    "    res = cv2.erode(img,kernel)\n",
    "    J[8,:] = (res - img).reshape(28*28)\n",
    "\n",
    "    ## 9: dilation\n",
    "    res = cv2.dilate(img,kernel)\n",
    "    J[9,:] = (res - img).reshape(28*28)\n",
    "    \n",
    "    return J"
   ]
  },
  {
   "cell_type": "code",
   "execution_count": 12,
   "metadata": {},
   "outputs": [],
   "source": [
    "def tangent(x,y):\n",
    "    k = 1\n",
    "    \n",
    "    E = np.matrix(x.reshape(-1,1))\n",
    "    P = np.matrix(y.reshape(-1,1))\n",
    "    L_E = np.matrix(get_J(E)).T\n",
    "    L_P = np.matrix(get_J(P)).T\n",
    "    \n",
    "    L_EE = L_E.T * L_E\n",
    "    L_EP = L_E.T * L_P\n",
    "    L_PE = L_P.T * L_E\n",
    "    L_PP = L_P.T * L_P\n",
    "    L_EE_inv = L_EE.I\n",
    "    L_PP_inv = L_PP.I\n",
    "    E_P = E - P\n",
    "    \n",
    "    alpha_P = np.linalg.inv(L_PE * L_EE_inv * L_EP - (1 + k)* (1 + k) * L_PP) * \\\n",
    "        (L_PE * L_EE_inv * L_E.T - (1 + k) * L_P.T) * E_P\n",
    "    alpha_E = np.linalg.inv(L_EP * L_PP_inv * L_PE - (1 + k)* (1 + k) * L_EE) * \\\n",
    "        (L_EP * L_PP_inv * L_P.T - (1 + k) * L_E.T) *  - E_P\n",
    "    \n",
    "    l1 = L_E * alpha_E\n",
    "    l2= L_P * alpha_P\n",
    "    \n",
    "    D = np.linalg.norm(E_P + l1 -l2)**2 + k * (np.linalg.norm(l1)**2 + np.linalg.norm(l2)**2)\n",
    "    return D"
   ]
  },
  {
   "cell_type": "code",
   "execution_count": 19,
   "metadata": {},
   "outputs": [
    {
     "name": "stdout",
     "output_type": "stream",
     "text": [
      "Mean Accuracy: 0.685, Var Accuracy: 0.004024999999999999\n"
     ]
    }
   ],
   "source": [
    "m = []\n",
    "for _ in range(10):\n",
    "    size = 60\n",
    "    test_size = 60\n",
    "    data_used, _, label_used, _ = train_test_split(train_data,train_labels,test_size = train_sum - size)\n",
    "    _, test_used, _, test_label_used = train_test_split(test_data,test_labels,test_size = test_size)\n",
    "\n",
    "    neigh = KNeighborsClassifier(n_neighbors=1,metric=tangent,n_jobs=-1)\n",
    "    neigh.fit(data_used,np.ravel(label_used))\n",
    "    predict = neigh.predict(test_used)\n",
    "    m.append(accuracy_score(test_label_used,predict))\n",
    "print ('Mean Accuracy: {}, Var Accuracy: {}'.format(np.mean(m),np.var(m)))"
   ]
  },
  {
   "cell_type": "markdown",
   "metadata": {},
   "source": [
    "> Notice: The code above has to run for hours to get the final result."
   ]
  }
 ],
 "metadata": {
  "kernelspec": {
   "display_name": "Python 3",
   "language": "python",
   "name": "python3"
  },
  "language_info": {
   "codemirror_mode": {
    "name": "ipython",
    "version": 3
   },
   "file_extension": ".py",
   "mimetype": "text/x-python",
   "name": "python",
   "nbconvert_exporter": "python",
   "pygments_lexer": "ipython3",
   "version": "3.5.2"
  }
 },
 "nbformat": 4,
 "nbformat_minor": 2
}
